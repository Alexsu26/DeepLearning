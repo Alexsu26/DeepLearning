{
 "cells": [
  {
   "cell_type": "markdown",
   "metadata": {},
   "source": [
    "在用 Pytorch 进行回归分析的过程中，一般可分为 4 步：  \n",
    "1. 准备数据集\n",
    "2. 设计模型，继承自 nn.Module，用于计算 $\\hat{y}$\n",
    "3. 构建 loss 函数和优化器\n",
    "4. 训练，前馈、反馈、更新  \n",
    "\n",
    "\n",
    "下面分别叙述"
   ]
  },
  {
   "cell_type": "markdown",
   "metadata": {},
   "source": [
    "## 准备训练集\n",
    "具体训练集比较复杂，现在先采用之前用的简单的数据集，但是改为使用 Tensor 存储"
   ]
  },
  {
   "cell_type": "code",
   "execution_count": 14,
   "metadata": {},
   "outputs": [],
   "source": [
    "import torch\n",
    "\n",
    "x_data = torch.Tensor([[1.0], [2.0], [3.0], [4.0]])\n",
    "y_data = torch.Tensor([[2.0], [4.0], [6.0], [8.0]])"
   ]
  },
  {
   "cell_type": "markdown",
   "metadata": {},
   "source": [
    "## 设计模型\n",
    "一般继承自 nn.Module 和 nn.Functions 等，现阶段先继承 nn.Module"
   ]
  },
  {
   "cell_type": "code",
   "execution_count": 15,
   "metadata": {},
   "outputs": [],
   "source": [
    "class LinearModel(torch.nn.Module):\n",
    "    def __init__(self) -> None:\n",
    "        super(LinearModel, self).__init__()\n",
    "        self.linear = torch.nn.Linear(1, 1)\n",
    "\n",
    "    def forward(self, x):\n",
    "        y_pred = self.linear(x)\n",
    "        return y_pred\n",
    "\n",
    "model = LinearModel()"
   ]
  },
  {
   "cell_type": "markdown",
   "metadata": {},
   "source": [
    "继承 nn.Module 要求类必须实现 init 和 forward 方法  \n",
    "Linear 对象包括 2 个 Tensor 成员：weight 和 bias，即线性方程 $y = \\omega x + b$ 的 $\\omega$和$b$  \n",
    "因此这里 `Linear(1, 1)`构造函数，接受的`in_feature`：输入样本x的特征数，`out_feature`：输出样本y的特征数  \n",
    "`forward`函数用到了`linear`对象实现的方法：`__call__()`，因此让语句`y_pred = self.linear(x)`看起来像函数"
   ]
  },
  {
   "cell_type": "markdown",
   "metadata": {},
   "source": [
    "简单介绍一下`__call__()`:"
   ]
  },
  {
   "cell_type": "code",
   "execution_count": 16,
   "metadata": {},
   "outputs": [
    {
     "name": "stdout",
     "output_type": "stream",
     "text": [
      "args[0] = 1\n"
     ]
    }
   ],
   "source": [
    "from typing import Any\n",
    "\n",
    "\n",
    "class foobar():\n",
    "    def __init__(self) -> None:\n",
    "        pass\n",
    "    \n",
    "    def __call__(self, *args: Any, **kwds: Any) -> Any:\n",
    "        print(\"args[0] = \" + str(args[0]))\n",
    "\n",
    "fb = foobar()\n",
    "fb(1, 2, 3)"
   ]
  },
  {
   "cell_type": "markdown",
   "metadata": {},
   "source": [
    "而 Linear 类的 call 方法调用了 forward 方法，因此继承了 uu.Module 的方法必须实现 forward 方法。"
   ]
  },
  {
   "cell_type": "markdown",
   "metadata": {},
   "source": [
    "## 构造损失函数和优化器"
   ]
  },
  {
   "cell_type": "code",
   "execution_count": 17,
   "metadata": {},
   "outputs": [
    {
     "name": "stderr",
     "output_type": "stream",
     "text": [
      "/Users/liyang/miniconda3/envs/d2l/lib/python3.9/site-packages/torch/nn/_reduction.py:42: UserWarning: size_average and reduce args will be deprecated, please use reduction='sum' instead.\n",
      "  warnings.warn(warning.format(ret))\n"
     ]
    }
   ],
   "source": [
    "criterion = torch.nn.MSELoss(size_average=False)\n",
    "\n",
    "optimizer = torch.optim.SGD(model.parameters(), lr=0.01)"
   ]
  },
  {
   "cell_type": "markdown",
   "metadata": {},
   "source": [
    "这里的`criterion`, `optimizer`都是对象，`MSELoss`, `SGD`都是类，都采用了`__call__`  \n",
    "内置的 MSELoss 方法就是之前用的 $(\\hat{y}_{n}-y_{n})^{2}$，参数`size_average`是指最终的 loss 需不需要处以个数，即求平均，其实求不求都可以。  \n",
    "`model.parameters()`会检查对象的所有成员，并返回权重  \n",
    "lr 即 learnrate 学习率，一般设置为固定值，当然也可以在不同部分使用不同的学习率"
   ]
  },
  {
   "cell_type": "markdown",
   "metadata": {},
   "source": [
    "## 训练模型"
   ]
  },
  {
   "cell_type": "code",
   "execution_count": 18,
   "metadata": {},
   "outputs": [],
   "source": [
    "epoch_list = []\n",
    "loss_list = []\n",
    "\n",
    "for epoch in range(100):\n",
    "    y_pred = model(x_data)\n",
    "    loss = criterion(y_pred, y_data)    # 前馈\n",
    "\n",
    "    optimizer.zero_grad()       # 不保存每一轮训练的梯度\n",
    "    loss.backward()             # 向后传播\n",
    "    optimizer.step()            # 更新权重\n",
    "\n",
    "    epoch_list.append(epoch)\n",
    "    loss_list.append(loss.item())\n"
   ]
  },
  {
   "cell_type": "code",
   "execution_count": 19,
   "metadata": {},
   "outputs": [
    {
     "data": {
      "image/png": "[encoded data removed]",
      "text/plain": [
       "<Figure size 640x480 with 1 Axes>"
      ]
     },
     "metadata": {},
     "output_type": "display_data"
    }
   ],
   "source": [
    "import matplotlib.pyplot as plt\n",
    "plt.plot(epoch_list, loss_list)\n",
    "plt.show()"
   ]
  },
  {
   "cell_type": "code",
   "execution_count": 20,
   "metadata": {},
   "outputs": [
    {
     "name": "stdout",
     "output_type": "stream",
     "text": [
      "w is  1.9945378303527832\n",
      "b is  0.016059335321187973\n"
     ]
    }
   ],
   "source": [
    "# 最后预测的值\n",
    "print(\"w is \", model.linear.weight.item())\n",
    "print(\"b is \", model.linear.bias.item())"
   ]
  },
  {
   "cell_type": "markdown",
   "metadata": {},
   "source": [
    "注意，增加训练轮数可以让模型在训练集上表现更好，但是有可能过拟合，让训练集只在训练集表现好，一旦转移到测试集和预测集上，表现突然变差"
   ]
  }
 ],
 "metadata": {
  "kernelspec": {
   "display_name": "d2l",
   "language": "python",
   "name": "python3"
  },
  "language_info": {
   "codemirror_mode": {
    "name": "ipython",
    "version": 3
   },
   "file_extension": ".py",
   "mimetype": "text/x-python",
   "name": "python",
   "nbconvert_exporter": "python",
   "pygments_lexer": "ipython3",
   "version": "3.9.18"
  }
 },
 "nbformat": 4,
 "nbformat_minor": 2
}
