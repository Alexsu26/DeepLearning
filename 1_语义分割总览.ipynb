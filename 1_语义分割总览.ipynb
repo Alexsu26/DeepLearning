{
 "cells": [
  {
   "cell_type": "markdown",
   "metadata": {},
   "source": [
    "## 常见数据集格式\n",
    "pascal voc：像素图片，有20个目标和1个背景分类，不同分类的像素值不一样。加上调色板后，可显示不同颜色。\n",
    "ms coco：每一个目标给出多边形坐标，但是不包括边界\n",
    "## 输出格式\n",
    "palette，实际是单通道图片，是灰度图，但是加上调色板后可以显示为不同颜色。"
   ]
  },
  {
   "cell_type": "markdown",
   "metadata": {},
   "source": [
    "## 常用评价指标\n",
    "Pixel Accuracy：$\\frac{\\sum_in_{ii}}{\\sum_it_i}$ ，识别正确的像素占总像素比  \n",
    "  \n",
    "  \n",
    "mean Accuracy：$\\begin{aligned}\\frac{1}{n_{cls}}\\cdot\\sum_{i}\\frac{n_{ii}}{t_{i}}\\end{aligned}$ ，\n",
    "不同类别识别正确占总像素比的求和取平均    \n",
    "  \n",
    "mean IoU：$\\frac1{n_{cls}}\\cdot\\sum_i\\frac{n_{ii}}{t_i+\\sum_jn_{ji}-n_{ii}}$，不同类别，识别正确的像素值占（预测像素 与 实际像素 的并集），的求和取平均，最重要！  \n",
    "一般会使用矩阵来实现计算：  \n",
    "对于预测和真实标签：  \n",
    "![](https://pic.imgdb.cn/item/659e67a0871b83018a3af16a.jpg)  \n",
    "可以计算  \n",
    "![](https://pic.imgdb.cn/item/659e67d7871b83018a3bbcdc.jpg)  \n",
    "因此可以计算：  \n",
    "$$\\begin{aligned}\\text{global\\_accuracy }&=\\frac{16+3+16+12+8}{64}\\approx0.859\\end{aligned}$$  \n",
    "mean accuracy：  \n",
    "![](https://pic.imgdb.cn/item/659e685d871b83018a3db7c7.jpg)  \n",
    "mean IoU：  \n",
    "![](https://pic.imgdb.cn/item/659e688a871b83018a3e5a2e.jpg)  \n"
   ]
  },
  {
   "cell_type": "markdown",
   "metadata": {},
   "source": [
    "## 标注工具\n",
    "[Labelme](https://github.com/wkentaro/labelme)，是开源，需要手动标注。  \n",
    "[EISeg](https://github.com/PaddlePaddle/PaddleSeg)，是百度的，可以自动识别，然后手动调整。\n"
   ]
  }
 ],
 "metadata": {
  "language_info": {
   "name": "python"
  }
 },
 "nbformat": 4,
 "nbformat_minor": 2
}
