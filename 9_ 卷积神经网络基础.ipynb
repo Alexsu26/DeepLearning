{
 "cells": [
  {
   "cell_type": "markdown",
   "metadata": {},
   "source": [
    "如果一个网络完全由线性层串联起来，就叫全连接(fully connected)的网络，例如多分类问题中采用的网络，![](https://pic.imgdb.cn/item/659ce3a7871b83018a4b96c5.jpg)  "
   ]
  },
  {
   "cell_type": "markdown",
   "metadata": {},
   "source": [
    "而经典的卷积神经网络的流程如下图所示：  \n",
    "![](https://pic.imgdb.cn/item/659d0e4b871b83018acb2773.jpg)  \n",
    "一般分为两个阶段：特征提取（feature extraction）以及分类（classification）：  \n",
    "特征提取：  \n",
    "卷积（convolution）和下采样（subsampling），其中下采样中多采用最大池化（maxpooling）  \n",
    "分类：  \n",
    "将最终提取到的特征，进行一次全连接，再通过维度变换成最终结果的维度。\n"
   ]
  },
  {
   "cell_type": "markdown",
   "metadata": {},
   "source": [
    "## 卷积层\n",
    "通常情况下，我们处理的图像是栅格图像，即图像由一个个的像素点组成，每一个像素点又有RGB三个通道值共同组成。\n",
    "通常我们采用 C * W * H 表示整个图像的信息，即channel * width * height  \n",
    "而在卷积层中，输入输出是四维张量：[batch, channel, width, height]，第一分量即样本数。`transforms.ToTensor`转化后的图像就是这种的四维张量，因此不需要额外排列。  \n",
    "![](https://pic.imgdb.cn/item/659d10c0871b83018ad20dad.jpg) \n",
    "### 卷积核 \n",
    "卷积层所做的操作实际上很简单，就是对应元素相乘相加，对于卷积核（convolution kernel）同大小的输入，完成计算，并输出到对应位置即可。而每一个通道都对应一个卷积核，每个通道计算的结果再相加，为这一次卷积最终结果。\n",
    "> tips：对于 $m * m$ 大小的卷积核，考虑其需要从 $m / 2$的位置开始和结束计算，因此，对于输入的维度减少为：$2 * (m / 2)$ ，这里用的是整除，例如，对于[1, 28, 28]的输入，采用卷积核为$5 * 5$，则输出的维度为[1, 24, 24]  \n",
    "\n",
    "### 通道数\n",
    "卷积层实际上还可以更改通道数，若最终结果的通道数为m，则需要m个filter。\n",
    "![](https://pic.imgdb.cn/item/659d141a871b83018adb886b.jpg)  \n",
    "### padding\n",
    "如果想要卷积前后的维度不变，则需要用到padding，即往外延伸，如下图所示为$padding=1$   \n",
    "![](https://pic.imgdb.cn/item/659d1557871b83018adf1d10.jpg)  \n",
    "### stride\n",
    "stride为每一次行走的步长，下图为$stride=2$的示意：  \n",
    "![](https://pic.imgdb.cn/item/659d15e5871b83018ae0b9cf.jpg)  "
   ]
  },
  {
   "cell_type": "markdown",
   "metadata": {},
   "source": [
    "## 下采样层\n",
    "这里采用最大池化，如果最大池的核数为2，则默认情况下起stride也为2  \n",
    "![](https://pic.imgdb.cn/item/659d161a871b83018ae15a1f.jpg)   \n"
   ]
  },
  {
   "cell_type": "markdown",
   "metadata": {},
   "source": [
    "整个特征提取的过程为：  \n",
    "![](https://pic.imgdb.cn/item/659d1692871b83018ae2bef1.jpg)  \n",
    "可以发现，在卷积层和最大池层，并不要求知道样本的维度具体值，只有在最后的全连接层，需要知道最终得到了多少个像素，这一步需要计算，也可以先用一个简单样本输入模型，输出经过最大池化的维度来判断"
   ]
  },
  {
   "cell_type": "code",
   "execution_count": 10,
   "metadata": {},
   "outputs": [],
   "source": [
    "import torch\n",
    "from torchvision import datasets\n",
    "from torchvision import transforms\n",
    "from torch.utils.data import DataLoader\n",
    "import numpy as np\n",
    "\n",
    "transform = transforms.Compose([\n",
    "    transforms.ToTensor(),\n",
    "    transforms.Normalize((0.1307, ), (0.3081, ))\n",
    "])\n",
    "\n",
    "train_data = datasets.MNIST(root='./dataset/mnist/',\n",
    "                            train=True,\n",
    "                            download=False,\n",
    "                            transform=transform)\n",
    "train_dataloader = DataLoader(dataset=train_data,\n",
    "                              batch_size=64,\n",
    "                              shuffle=True)\n",
    "\n",
    "test_data = datasets.MNIST(root='./dataset/mnist/',\n",
    "                           train=False,\n",
    "                           download=False,\n",
    "                           transform=transform)\n",
    "test_dataloader = DataLoader(dataset=test_data,\n",
    "                             batch_size=64,\n",
    "                             shuffle=False)"
   ]
  },
  {
   "cell_type": "code",
   "execution_count": 11,
   "metadata": {},
   "outputs": [],
   "source": [
    "import torch.nn.functional as F\n",
    "class Net(torch.nn.Module):\n",
    "    def __init__(self) -> None:\n",
    "        super(Net,self).__init__()\n",
    "        self.conv1 = torch.nn.Conv2d(1, 10, kernel_size=5)\n",
    "        self.conv2 = torch.nn.Conv2d(10, 20, kernel_size=5)\n",
    "        self.maxpooling = torch.nn.MaxPool2d(kernel_size=2)\n",
    "        self.fc = torch.nn.Linear(320, 10)\n",
    "    \n",
    "    def forward(self, x):\n",
    "        batch = x.size(0)\n",
    "        x = self.maxpooling(F.relu(self.conv1(x)))\n",
    "        x = self.maxpooling(F.relu(self.conv2(x)))\n",
    "        x = x.view(batch, -1)               # 每一行就是一个样本\n",
    "        return self.fc(x)\n",
    "\n",
    "model = Net()\n",
    "# device = torch.device(\"cuda:0\" if torch.cuda.is_available() else \"cpu\")   如果有GPU\n",
    "# model.to(device)"
   ]
  },
  {
   "cell_type": "code",
   "execution_count": 12,
   "metadata": {},
   "outputs": [],
   "source": [
    "criterion = torch.nn.CrossEntropyLoss()\n",
    "optimizer = torch.optim.SGD(params=model.parameters(), lr=0.01, momentum=0.5)"
   ]
  },
  {
   "cell_type": "code",
   "execution_count": 13,
   "metadata": {},
   "outputs": [],
   "source": [
    "def train():\n",
    "    for idx, data in enumerate(train_dataloader, 0):\n",
    "        inputs, labels = data\n",
    "        # inputs, labels = inputs.to(device), labels.to(device) 如果有GPU\n",
    "        optimizer.zero_grad()\n",
    "\n",
    "        outputs = model(inputs)\n",
    "        loss = criterion(outputs, labels)\n",
    "\n",
    "        loss.backward()\n",
    "        optimizer.step()\n",
    "\n",
    "def test():\n",
    "    correct = 0\n",
    "    total = 0\n",
    "    with torch.no_grad():\n",
    "        for data in test_dataloader:\n",
    "            inputs, labels = data\n",
    "            outputs = model(inputs)\n",
    "            _, pred = torch.max(outputs.data, dim=1)\n",
    "            correct += (pred == labels).sum().item()\n",
    "            total += labels.size(0)\n",
    "    print(\"acc is %lf\" % (correct / total))"
   ]
  },
  {
   "cell_type": "code",
   "execution_count": 14,
   "metadata": {},
   "outputs": [
    {
     "name": "stdout",
     "output_type": "stream",
     "text": [
      "acc is 0.987400\n",
      "acc is 0.989900\n",
      "acc is 0.988300\n",
      "acc is 0.990200\n",
      "acc is 0.989100\n",
      "acc is 0.989800\n",
      "acc is 0.989000\n",
      "acc is 0.989900\n",
      "acc is 0.989200\n",
      "acc is 0.989900\n"
     ]
    }
   ],
   "source": [
    "if __name__ == \"__main__\":\n",
    "    for epoch in range(100):\n",
    "        train()\n",
    "        if epoch % 10 == 9:\n",
    "            test()"
   ]
  }
 ],
 "metadata": {
  "kernelspec": {
   "display_name": "d2l",
   "language": "python",
   "name": "python3"
  },
  "language_info": {
   "codemirror_mode": {
    "name": "ipython",
    "version": 3
   },
   "file_extension": ".py",
   "mimetype": "text/x-python",
   "name": "python",
   "nbconvert_exporter": "python",
   "pygments_lexer": "ipython3",
   "version": "3.9.18"
  }
 },
 "nbformat": 4,
 "nbformat_minor": 2
}
