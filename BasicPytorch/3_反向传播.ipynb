{
 "cells": [
  {
   "cell_type": "markdown",
   "metadata": {},
   "source": [
    "反向传播，即为向前计算到最后，再回过来计算每一步的梯度如下图所示：  \n",
    "![](https://pic.imgdb.cn/item/65815c76c458853aefe6a840.jpg)"
   ]
  },
  {
   "cell_type": "markdown",
   "metadata": {},
   "source": [
    "在向前计算时，先计算这一步的梯度，然后等到传播完毕，即 loss 之后，再反向就算需要的梯度$\\frac{\\partial loss}{\\partial w}$"
   ]
  },
  {
   "cell_type": "markdown",
   "metadata": {},
   "source": [
    "Pytorch中，基础的数据类型是 tensor， 包含 data 和 grid 两个类型，grid 类型也是一个 tensor ，若要转换为python原生的类型，可以调用 `tensorName.grid.item()` ，并且 Pytorch 默认 tensor 是不保存梯度的，若要保存梯度，需要调用 `tensorName.requires_grid = True`"
   ]
  },
  {
   "cell_type": "markdown",
   "metadata": {},
   "source": [
    "下面给出随机梯度下降算法的 Pytorch 写法"
   ]
  },
  {
   "cell_type": "code",
   "execution_count": 39,
   "metadata": {},
   "outputs": [],
   "source": [
    "import torch\n",
    "import matplotlib.pyplot as plt"
   ]
  },
  {
   "cell_type": "code",
   "execution_count": 40,
   "metadata": {},
   "outputs": [],
   "source": [
    "x_data = [1, 2, 3, 4]\n",
    "y_data = [2, 4, 6, 8]"
   ]
  },
  {
   "cell_type": "code",
   "execution_count": 41,
   "metadata": {},
   "outputs": [],
   "source": [
    "w = torch.Tensor([1.0])     # 注意要加中括号\n",
    "w.requires_grad = True"
   ]
  },
  {
   "cell_type": "code",
   "execution_count": 42,
   "metadata": {},
   "outputs": [],
   "source": [
    "# 因为 w 是 tensor ，因此 x 会进行隐式类型转换\n",
    "def forward(x):\n",
    "    return x * w\n",
    "\n",
    "# 整个函数实际上构建了一个计算图，即最上面那幅图，整个过程因为只有 tensor 类型的 w 变量需要保存梯度，\n",
    "# 因此最终调用 loss.backward() 后会计算 w.grad\n",
    "def loss(x, y):\n",
    "    y_pred = forward(x)\n",
    "    return (y_pred - y) ** 2\n",
    "\n",
    "def cost(xx, yy):\n",
    "    sum = 0\n",
    "    for x, y in zip(xx, yy):\n",
    "        y_pred = x * w.data\n",
    "        ls = (y_pred - y) ** 2\n",
    "        sum += ls\n",
    "    return sum / len(xx)"
   ]
  },
  {
   "cell_type": "code",
   "execution_count": 43,
   "metadata": {},
   "outputs": [],
   "source": [
    "epoch_list = []\n",
    "cost_list = []\n",
    "\n",
    "for epoch in range(100) :\n",
    "    for x, y in zip(x_data, y_data):\n",
    "        l = loss(x, y)          # 构建计算图\n",
    "        l.backward()            # 反向传播\n",
    "\n",
    "        w.data -= 0.01 * w.grad.data    # 只对 data 进行计算，防止对 tensor 计算再次构建计算图\n",
    "\n",
    "        w.grad.data.zero_()             # 不保存\n",
    "    cost_list.append(cost(x_data, y_data))\n",
    "    epoch_list.append(epoch)\n"
   ]
  },
  {
   "cell_type": "code",
   "execution_count": 44,
   "metadata": {},
   "outputs": [
    {
     "data": {
      "image/png": "[encoded data removed]",
      "text/plain": [
       "<Figure size 640x480 with 1 Axes>"
      ]
     },
     "metadata": {},
     "output_type": "display_data"
    }
   ],
   "source": [
    "plt.plot(epoch_list, cost_list)\n",
    "plt.show()"
   ]
  }
 ],
 "metadata": {
  "kernelspec": {
   "display_name": "d2l",
   "language": "python",
   "name": "python3"
  },
  "language_info": {
   "codemirror_mode": {
    "name": "ipython",
    "version": 3
   },
   "file_extension": ".py",
   "mimetype": "text/x-python",
   "name": "python",
   "nbconvert_exporter": "python",
   "pygments_lexer": "ipython3",
   "version": "3.9.18"
  }
 },
 "nbformat": 4,
 "nbformat_minor": 2
}
