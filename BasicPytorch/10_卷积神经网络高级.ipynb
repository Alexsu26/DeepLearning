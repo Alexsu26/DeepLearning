{
 "cells": [
  {
   "cell_type": "markdown",
   "metadata": {},
   "source": [
    "## GoogLeNet\n",
    "其计算图为：  \n",
    "![](https://pic.imgdb.cn/item/659e6114871b83018a231e3f.jpg)\n",
    "由于整个过程有很多重复的操作，因此可以封装成一个类，其中下图的过程称为：Inception：\n",
    "![](https://pic.imgdb.cn/item/659e612e871b83018a237863.jpg)\n",
    "其基本思想是综合考虑5*5，3*3，1*1的卷积核大小，哪个影响最大，就会在后面卷积过程占主导因素。"
   ]
  },
  {
   "cell_type": "markdown",
   "metadata": {},
   "source": [
    "### concatenate\n",
    "指的是将所有样本沿着通道方向拼接到一块\n",
    "### 1*1 convolution\n",
    "既然1*1大小的卷积核并不改变宽和高，有什么用呢？考虑下图的计算次数，\n",
    "![](https://pic.imgdb.cn/item/659e6279871b83018a28703d.jpg)  \n",
    "可以发现中间添加1*1卷积层后运算次数显著减少了。"
   ]
  },
  {
   "cell_type": "markdown",
   "metadata": {},
   "source": [
    "转化为代码即：\n",
    "![](https://pic.imgdb.cn/item/659e6344871b83018a2b596a.jpg)"
   ]
  },
  {
   "cell_type": "markdown",
   "metadata": {},
   "source": [
    "## ResidualNet\n",
    "为了避免出现梯度消失（接近0）的问题，ResidualNet提出：\n",
    "![](https://pic.imgdb.cn/item/659e63b0871b83018a2cd902.jpg)  \n",
    "这样求导时梯度在1附近，可以使最开始的样本也得到很好的利用。"
   ]
  },
  {
   "cell_type": "markdown",
   "metadata": {},
   "source": [
    "具体的代码实现暂时不写，准备进入语义分割。"
   ]
  }
 ],
 "metadata": {
  "language_info": {
   "name": "python"
  }
 },
 "nbformat": 4,
 "nbformat_minor": 2
}
